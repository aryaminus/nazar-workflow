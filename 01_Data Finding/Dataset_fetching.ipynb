{
  "nbformat": 4,
  "nbformat_minor": 0,
  "metadata": {
    "colab": {
      "name": "Dataset_fetching.ipynb",
      "version": "0.3.2",
      "views": {},
      "default_view": {},
      "provenance": []
    },
    "kernelspec": {
      "name": "python3",
      "display_name": "Python 3"
    },
    "accelerator": "GPU"
  },
  "cells": [
    {
      "metadata": {
        "id": "V705XAjkn4sa",
        "colab_type": "code",
        "colab": {
          "autoexec": {
            "startup": false,
            "wait_interval": 0
          }
        }
      },
      "cell_type": "code",
      "source": [
        ""
      ],
      "execution_count": 0,
      "outputs": []
    },
    {
      "metadata": {
        "id": "xKbRGk-Hn7uI",
        "colab_type": "text"
      },
      "cell_type": "markdown",
      "source": [
        "# Enable GPU\n",
        "Go to Edit/Notebook Settings and enable Python3 and Hardware Acceleration GPU\n"
      ]
    },
    {
      "metadata": {
        "id": "r_I0rbjboaTq",
        "colab_type": "code",
        "colab": {
          "autoexec": {
            "startup": false,
            "wait_interval": 0
          },
          "base_uri": "https://localhost:8080/",
          "height": 278
        },
        "outputId": "d2220828-b272-45d6-c113-4c19d8457c6d",
        "executionInfo": {
          "status": "ok",
          "timestamp": 1525193760998,
          "user_tz": -345,
          "elapsed": 3132,
          "user": {
            "displayName": "Sunim Acharya",
            "photoUrl": "//lh6.googleusercontent.com/-LiJ-XpTmSI4/AAAAAAAAAAI/AAAAAAAAB38/FBvUjutV_vU/s50-c-k-no/photo.jpg",
            "userId": "109432200723136539693"
          }
        }
      },
      "cell_type": "code",
      "source": [
        "from tensorflow.python.client import device_lib\n",
        "device_lib.list_local_devices()"
      ],
      "execution_count": 1,
      "outputs": [
        {
          "output_type": "execute_result",
          "data": {
            "text/plain": [
              "[name: \"/device:CPU:0\"\n",
              " device_type: \"CPU\"\n",
              " memory_limit: 268435456\n",
              " locality {\n",
              " }\n",
              " incarnation: 17464738921139858742, name: \"/device:GPU:0\"\n",
              " device_type: \"GPU\"\n",
              " memory_limit: 135004160\n",
              " locality {\n",
              "   bus_id: 1\n",
              "   links {\n",
              "   }\n",
              " }\n",
              " incarnation: 17611031631499854931\n",
              " physical_device_desc: \"device: 0, name: Tesla K80, pci bus id: 0000:00:04.0, compute capability: 3.7\"]"
            ]
          },
          "metadata": {
            "tags": []
          },
          "execution_count": 1
        }
      ]
    },
    {
      "metadata": {
        "id": "U_QbADOxoiLm",
        "colab_type": "text"
      },
      "cell_type": "markdown",
      "source": [
        "##Install ImagenetScrapper"
      ]
    },
    {
      "metadata": {
        "id": "RV9yKkbeooAc",
        "colab_type": "code",
        "colab": {
          "autoexec": {
            "startup": false,
            "wait_interval": 0
          },
          "base_uri": "https://localhost:8080/",
          "height": 332
        },
        "outputId": "a81cbf23-86fe-4ddf-ddeb-2fa473ae631d",
        "executionInfo": {
          "status": "ok",
          "timestamp": 1525193815796,
          "user_tz": -345,
          "elapsed": 6204,
          "user": {
            "displayName": "Sunim Acharya",
            "photoUrl": "//lh6.googleusercontent.com/-LiJ-XpTmSI4/AAAAAAAAAAI/AAAAAAAAB38/FBvUjutV_vU/s50-c-k-no/photo.jpg",
            "userId": "109432200723136539693"
          }
        }
      },
      "cell_type": "code",
      "source": [
        "!pip3 install imagenetscraper\n",
        "!imagenetscraper"
      ],
      "execution_count": 2,
      "outputs": [
        {
          "output_type": "stream",
          "text": [
            "Requirement already satisfied: imagenetscraper in /usr/local/lib/python3.6/dist-packages (1.0)\n",
            "Requirement already satisfied: click in /usr/local/lib/python3.6/dist-packages (from imagenetscraper) (6.7)\n",
            "Requirement already satisfied: requests in /usr/local/lib/python3.6/dist-packages (from imagenetscraper) (2.18.4)\n",
            "Requirement already satisfied: pillow in /usr/local/lib/python3.6/dist-packages (from imagenetscraper) (4.0.0)\n",
            "Requirement already satisfied: frogress in /usr/local/lib/python3.6/dist-packages (from imagenetscraper) (0.9.1)\n",
            "Requirement already satisfied: grequests in /usr/local/lib/python3.6/dist-packages (from imagenetscraper) (0.3.0)\n",
            "Requirement already satisfied: defusedxml in /usr/local/lib/python3.6/dist-packages (from imagenetscraper) (0.5.0)\n",
            "Requirement already satisfied: certifi>=2017.4.17 in /usr/local/lib/python3.6/dist-packages (from requests->imagenetscraper) (2018.4.16)\n",
            "Requirement already satisfied: urllib3<1.23,>=1.21.1 in /usr/local/lib/python3.6/dist-packages (from requests->imagenetscraper) (1.22)\n",
            "Requirement already satisfied: chardet<3.1.0,>=3.0.2 in /usr/local/lib/python3.6/dist-packages (from requests->imagenetscraper) (3.0.4)\n",
            "Requirement already satisfied: idna<2.7,>=2.5 in /usr/local/lib/python3.6/dist-packages (from requests->imagenetscraper) (2.6)\n",
            "Requirement already satisfied: olefile in /usr/local/lib/python3.6/dist-packages (from pillow->imagenetscraper) (0.45.1)\n",
            "Requirement already satisfied: gevent in /usr/local/lib/python3.6/dist-packages (from grequests->imagenetscraper) (1.2.2)\n",
            "Requirement already satisfied: greenlet>=0.4.10 in /usr/local/lib/python3.6/dist-packages (from gevent->grequests->imagenetscraper) (0.4.13)\n",
            "Usage: imagenetscraper [OPTIONS] SYNSET_ID [OUTPUT_DIR]\n",
            "\n",
            "Error: Missing argument \"synset_id\".\n"
          ],
          "name": "stdout"
        }
      ]
    },
    {
      "metadata": {
        "id": "sldKKaSlp8P4",
        "colab_type": "text"
      },
      "cell_type": "markdown",
      "source": [
        "#Create Developer apps for Dropbox"
      ]
    },
    {
      "metadata": {
        "id": "wnAp08evqC32",
        "colab_type": "text"
      },
      "cell_type": "markdown",
      "source": [
        "- Go to https://www.dropbox.com/developers/apps\n",
        "- Create App\n",
        "- Choose Dropbox API\n",
        "- Choose any and Create App\n",
        "- Open App and From ***OAuth 2*** Generate access token\n"
      ]
    },
    {
      "metadata": {
        "id": "gg0eGvYoqiLy",
        "colab_type": "text"
      },
      "cell_type": "markdown",
      "source": [
        "# Create new Gist\n",
        "- Copy from https://gist.githubusercontent.com/aryaminus/fe7f1288a3dbb1c73e6939173a386406/raw/71c24220c871adeac2e3a16384cad19a75bc7f4b/dropbox_upload\n",
        "- In line 70 add your OAUTH_ACCESS_TOKEN\n",
        "- Copy your Raw Gist link"
      ]
    },
    {
      "metadata": {
        "id": "fSA4BMXuo18Q",
        "colab_type": "code",
        "colab": {
          "autoexec": {
            "startup": false,
            "wait_interval": 0
          },
          "base_uri": "https://localhost:8080/",
          "height": 69
        },
        "outputId": "3af1a629-2f44-4c60-bec0-6bddbc2b7c26",
        "executionInfo": {
          "status": "ok",
          "timestamp": 1525194527456,
          "user_tz": -345,
          "elapsed": 6018,
          "user": {
            "displayName": "Sunim Acharya",
            "photoUrl": "//lh6.googleusercontent.com/-LiJ-XpTmSI4/AAAAAAAAAAI/AAAAAAAAB38/FBvUjutV_vU/s50-c-k-no/photo.jpg",
            "userId": "109432200723136539693"
          }
        }
      },
      "cell_type": "code",
      "source": [
        "#@title Paste your raw gist here\n",
        "!curl \"https://gist.githubusercontent.com/aryaminus/fe7f1288a3dbb1c73e6939173a386406/raw/71c24220c871adeac2e3a16384cad19a75bc7f4b/dropbox_upload\" -o dropbox_uploader.sh"
      ],
      "execution_count": 3,
      "outputs": [
        {
          "output_type": "stream",
          "text": [
            "  % Total    % Received % Xferd  Average Speed   Time    Time     Time  Current\r\n",
            "                                 Dload  Upload   Total   Spent    Left  Speed\n",
            "100 49422  100 49422    0     0  49422      0  0:00:01 --:--:--  0:00:01  232k\n"
          ],
          "name": "stdout"
        }
      ]
    },
    {
      "metadata": {
        "id": "cYoa1HVkqCdI",
        "colab_type": "code",
        "colab": {
          "autoexec": {
            "startup": false,
            "wait_interval": 0
          }
        }
      },
      "cell_type": "code",
      "source": [
        "! chmod +x dropbox_uploader.sh"
      ],
      "execution_count": 0,
      "outputs": []
    },
    {
      "metadata": {
        "id": "QMfRPlVlp7-I",
        "colab_type": "code",
        "colab": {
          "autoexec": {
            "startup": false,
            "wait_interval": 0
          },
          "base_uri": "https://localhost:8080/",
          "height": 610
        },
        "outputId": "ee5d0768-a950-49d9-be3e-8f891d206a75",
        "executionInfo": {
          "status": "ok",
          "timestamp": 1525194564068,
          "user_tz": -345,
          "elapsed": 2600,
          "user": {
            "displayName": "Sunim Acharya",
            "photoUrl": "//lh6.googleusercontent.com/-LiJ-XpTmSI4/AAAAAAAAAAI/AAAAAAAAB38/FBvUjutV_vU/s50-c-k-no/photo.jpg",
            "userId": "109432200723136539693"
          }
        }
      },
      "cell_type": "code",
      "source": [
        "! ./dropbox_uploader.sh"
      ],
      "execution_count": 6,
      "outputs": [
        {
          "output_type": "stream",
          "text": [
            "Dropbox Uploader v1.0\r\n",
            "Andrea Fabrizi - andrea.fabrizi@gmail.com\r\n",
            "\r\n",
            "Usage: ./dropbox_uploader.sh [PARAMETERS] COMMAND...\r\n",
            "\r\n",
            "Commands:\r\n",
            "\t upload   <LOCAL_FILE/DIR ...>  <REMOTE_FILE/DIR>\r\n",
            "\t download <REMOTE_FILE/DIR> [LOCAL_FILE/DIR]\r\n",
            "\t delete   <REMOTE_FILE/DIR>\r\n",
            "\t move     <REMOTE_FILE/DIR> <REMOTE_FILE/DIR>\r\n",
            "\t copy     <REMOTE_FILE/DIR> <REMOTE_FILE/DIR>\r\n",
            "\t mkdir    <REMOTE_DIR>\r\n",
            "\t list     [REMOTE_DIR]\r\n",
            "\t monitor  [REMOTE_DIR] [TIMEOUT]\r\n",
            "\t share    <REMOTE_FILE>\r\n",
            "\t saveurl  <URL> <REMOTE_DIR>\r\n",
            "\t search   <QUERY>\r\n",
            "\t info\r\n",
            "\t space\r\n",
            "\t unlink\r\n",
            "\r\n",
            "Optional parameters:\r\n",
            "\t-f <FILENAME> Load the configuration file from a specific file\r\n",
            "\t-s            Skip already existing files when download/upload. Default: Overwrite\r\n",
            "\t-d            Enable DEBUG mode\r\n",
            "\t-q            Quiet mode. Don't show messages\r\n",
            "\t-h            Show file sizes in human readable format\r\n",
            "\t-p            Show cURL progress meter\r\n",
            "\t-k            Doesn't check for SSL certificates (insecure)\r\n",
            "\t-x            Ignores/excludes directories or files from syncing. -x filename -x directoryname. example: -x .git\r\n",
            "\r\n",
            "For more info and examples, please see the README file.\r\n",
            "\r\n"
          ],
          "name": "stdout"
        }
      ]
    },
    {
      "metadata": {
        "id": "kHL6N4zFrtwu",
        "colab_type": "code",
        "colab": {
          "autoexec": {
            "startup": false,
            "wait_interval": 0
          }
        }
      },
      "cell_type": "code",
      "source": [
        "#@title Download your particular Dataset\n",
        "!imagenetscraper n03269401 electrical-device  --size 256,128"
      ],
      "execution_count": 0,
      "outputs": []
    },
    {
      "metadata": {
        "id": "y4JS4i0ir5Qm",
        "colab_type": "code",
        "colab": {
          "autoexec": {
            "startup": false,
            "wait_interval": 0
          }
        }
      },
      "cell_type": "code",
      "source": [
        "#@title Create a zip (Not necessary)\n",
        "!tar -czvf electrical-device.zip electrical-device"
      ],
      "execution_count": 0,
      "outputs": []
    },
    {
      "metadata": {
        "id": "zck8GMcKsCYK",
        "colab_type": "code",
        "colab": {
          "autoexec": {
            "startup": false,
            "wait_interval": 0
          }
        }
      },
      "cell_type": "code",
      "source": [
        "#@title Upload to root (or anywhere) in dropbox\n",
        "! ./dropbox_uploader.sh upload  electrical-device.zip /"
      ],
      "execution_count": 0,
      "outputs": []
    }
  ]
}